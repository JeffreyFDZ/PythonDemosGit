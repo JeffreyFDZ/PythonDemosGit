{
 "cells": [
  {
   "cell_type": "code",
   "execution_count": 2,
   "id": "8acad596",
   "metadata": {},
   "outputs": [
    {
     "name": "stdout",
     "output_type": "stream",
     "text": [
      "Requirement already satisfied: scikit-learn in /opt/anaconda3/lib/python3.9/site-packages (1.5.2)\n",
      "Requirement already satisfied: threadpoolctl>=3.1.0 in /opt/anaconda3/lib/python3.9/site-packages (from scikit-learn) (3.5.0)\n",
      "Requirement already satisfied: numpy>=1.19.5 in /opt/anaconda3/lib/python3.9/site-packages (from scikit-learn) (1.20.3)\n",
      "Requirement already satisfied: scipy>=1.6.0 in /opt/anaconda3/lib/python3.9/site-packages (from scikit-learn) (1.7.1)\n",
      "Requirement already satisfied: joblib>=1.2.0 in /opt/anaconda3/lib/python3.9/site-packages (from scikit-learn) (1.3.2)\n",
      "Note: you may need to restart the kernel to use updated packages.\n"
     ]
    }
   ],
   "source": [
    "pip install -U scikit-learn"
   ]
  },
  {
   "cell_type": "code",
   "execution_count": 4,
   "id": "f0e71237",
   "metadata": {},
   "outputs": [
    {
     "name": "stdout",
     "output_type": "stream",
     "text": [
      "Enter Height (100 - 250cm): 157\n",
      "Enter Weight (30-150 (kg)): 50\n",
      "Enter Shoe size (30-50 (EU size)): 37\n",
      "This user is Male\n"
     ]
    },
    {
     "name": "stderr",
     "output_type": "stream",
     "text": [
      "/opt/anaconda3/lib/python3.9/site-packages/sklearn/base.py:493: UserWarning: X does not have valid feature names, but DecisionTreeClassifier was fitted with feature names\n",
      "  warnings.warn(\n"
     ]
    }
   ],
   "source": [
    "from sklearn import tree\n",
    "import pandas as pd\n",
    "\n",
    "\n",
    "height_data = pd.read_csv('hight.csv')\n",
    "\n",
    "\n",
    "#training of the model on dataset of height, weight, and shoe size of 1000+ males and females\n",
    "X = height_data[['Hight', 'Weight', 'Shoe size']]\n",
    "Y = height_data['Gender']\n",
    "\n",
    "\n",
    "clf = tree.DecisionTreeClassifier()\n",
    "clf = clf.fit(X, Y)\n",
    "\n",
    "\n",
    "#Input for Height \n",
    "while True:\n",
    "    try:\n",
    "        height = int(input(\"Enter Height (100 - 250cm): \"))\n",
    "        if 100 <= height <= 250:\n",
    "            break\n",
    "        else:\n",
    "            print(\"Please enter a number within the range.\")\n",
    "    except ValueError:\n",
    "        print(\"That's not a valid number!\")\n",
    "        \n",
    "    \n",
    "\n",
    "#Input for Weigth\n",
    "while True:\n",
    "    try:\n",
    "        weight = int(input(\"Enter Weight (30-150 (kg)): \"))\n",
    "        if 30 <= weight <= 150:\n",
    "            break\n",
    "        else:\n",
    "            print(\"Please enter a number within the range.\")\n",
    "    except ValueError:\n",
    "        print(\"That's not a valid number!\")\n",
    "\n",
    "        \n",
    "#Input for Shoe Size\n",
    "while True:\n",
    "    try:\n",
    "        shoe = int(input(\"Enter Shoe size (30-50 (EU size)): \"))\n",
    "        if 30 <= shoe <= 50:\n",
    "            break\n",
    "        else:\n",
    "            print(\"Please enter a number within the range.\")\n",
    "    except ValueError:\n",
    "        print(\"That's not a valid number!\")\n",
    "\n",
    "\n",
    "\n",
    "if clf.predict([[height, weight, shoe]]) == ['M']:\n",
    "    print(\"This user is Male\")\n",
    "else:\n",
    "    print(\"This User is Female\")\n",
    "\n",
    "\n"
   ]
  },
  {
   "cell_type": "code",
   "execution_count": null,
   "id": "2c8db4f5",
   "metadata": {},
   "outputs": [],
   "source": []
  },
  {
   "cell_type": "code",
   "execution_count": null,
   "id": "f505e6f4",
   "metadata": {},
   "outputs": [],
   "source": []
  }
 ],
 "metadata": {
  "kernelspec": {
   "display_name": "Python 3 (ipykernel)",
   "language": "python",
   "name": "python3"
  },
  "language_info": {
   "codemirror_mode": {
    "name": "ipython",
    "version": 3
   },
   "file_extension": ".py",
   "mimetype": "text/x-python",
   "name": "python",
   "nbconvert_exporter": "python",
   "pygments_lexer": "ipython3",
   "version": "3.9.7"
  }
 },
 "nbformat": 4,
 "nbformat_minor": 5
}
