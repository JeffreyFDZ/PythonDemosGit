{
 "cells": [
  {
   "cell_type": "code",
   "execution_count": 2,
   "id": "8acad596",
   "metadata": {},
   "outputs": [
    {
     "name": "stdout",
     "output_type": "stream",
     "text": [
      "Requirement already satisfied: scikit-learn in /opt/anaconda3/lib/python3.9/site-packages (1.5.2)\n",
      "Requirement already satisfied: numpy>=1.19.5 in /opt/anaconda3/lib/python3.9/site-packages (from scikit-learn) (1.20.3)\n",
      "Requirement already satisfied: scipy>=1.6.0 in /opt/anaconda3/lib/python3.9/site-packages (from scikit-learn) (1.7.1)\n",
      "Requirement already satisfied: threadpoolctl>=3.1.0 in /opt/anaconda3/lib/python3.9/site-packages (from scikit-learn) (3.5.0)\n",
      "Requirement already satisfied: joblib>=1.2.0 in /opt/anaconda3/lib/python3.9/site-packages (from scikit-learn) (1.3.2)\n",
      "Note: you may need to restart the kernel to use updated packages.\n"
     ]
    }
   ],
   "source": [
    "pip install -U scikit-learn"
   ]
  },
  {
   "cell_type": "code",
   "execution_count": 4,
   "id": "f0e71237",
   "metadata": {},
   "outputs": [
    {
     "name": "stdout",
     "output_type": "stream",
     "text": [
      "Give me the persons height in inches: 180\n",
      "Give me the persons weight in lbs: 80\n",
      "Give me the persons US shoe size: 11\n",
      "['female']\n"
     ]
    }
   ],
   "source": [
    "from sklearn import tree\n",
    "\n",
    "\n",
    "# CHALLENGE - create 3 more classifiers...\n",
    "# 1\n",
    "# 2\n",
    "# 3\n",
    "\n",
    "# [height, weight, shoe_size]\n",
    "X = [[181, 80, 44], [177, 70, 43], [160, 60, 38], [154, 54, 37], [166, 65, 40],\n",
    "     [190, 90, 47], [175, 64, 39],\n",
    "     [177, 70, 40], [159, 55, 37], [171, 75, 42], [181, 85, 43]]\n",
    "\n",
    "Y = ['male', 'male', 'female', 'female', 'male', 'male', 'female', 'female',\n",
    "     'female', 'male', 'male']\n",
    "\n",
    "clf = tree.DecisionTreeClassifier()\n",
    "clf = clf.fit(X, Y)\n",
    "\n",
    "height = input(\"Give me the persons height in inches: \")\n",
    "weight = input(\"Give me the persons weight in lbs: \")\n",
    "shoe = input(\"Give me the persons US shoe size: \")\n",
    "\n",
    "print(clf.predict([[height, weight, shoe]]))\n",
    "\n"
   ]
  },
  {
   "cell_type": "code",
   "execution_count": 3,
   "id": "6901055f",
   "metadata": {},
   "outputs": [
    {
     "name": "stdout",
     "output_type": "stream",
     "text": [
      "Requirement already satisfied: streamlit in /opt/anaconda3/lib/python3.9/site-packages (1.12.0)\n",
      "Requirement already satisfied: blinker>=1.0.0 in /opt/anaconda3/lib/python3.9/site-packages (from streamlit) (1.8.2)\n",
      "Requirement already satisfied: toml in /opt/anaconda3/lib/python3.9/site-packages (from streamlit) (0.10.2)\n",
      "Requirement already satisfied: python-dateutil in /opt/anaconda3/lib/python3.9/site-packages (from streamlit) (2.8.2)\n",
      "Requirement already satisfied: typing-extensions>=3.10.0.0 in /opt/anaconda3/lib/python3.9/site-packages (from streamlit) (4.12.2)\n",
      "Requirement already satisfied: requests>=2.4 in /opt/anaconda3/lib/python3.9/site-packages (from streamlit) (2.31.0)\n",
      "Requirement already satisfied: rich>=10.11.0 in /opt/anaconda3/lib/python3.9/site-packages (from streamlit) (13.8.1)\n",
      "Requirement already satisfied: pillow>=6.2.0 in /opt/anaconda3/lib/python3.9/site-packages (from streamlit) (8.4.0)\n",
      "Requirement already satisfied: pympler>=0.9 in /opt/anaconda3/lib/python3.9/site-packages (from streamlit) (1.1)\n",
      "Requirement already satisfied: cachetools>=4.0 in /opt/anaconda3/lib/python3.9/site-packages (from streamlit) (5.5.0)\n",
      "Requirement already satisfied: click>=7.0 in /opt/anaconda3/lib/python3.9/site-packages (from streamlit) (8.0.3)\n",
      "Requirement already satisfied: pydeck>=0.1.dev5 in /opt/anaconda3/lib/python3.9/site-packages (from streamlit) (0.9.1)\n",
      "Requirement already satisfied: importlib-metadata>=1.4 in /opt/anaconda3/lib/python3.9/site-packages (from streamlit) (4.8.1)\n",
      "Requirement already satisfied: protobuf<4,>=3.12 in /opt/anaconda3/lib/python3.9/site-packages (from streamlit) (3.20.3)\n",
      "Requirement already satisfied: altair>=3.2.0 in /opt/anaconda3/lib/python3.9/site-packages (from streamlit) (5.4.1)\n",
      "Requirement already satisfied: numpy in /opt/anaconda3/lib/python3.9/site-packages (from streamlit) (1.20.3)\n",
      "Requirement already satisfied: packaging>=14.1 in /opt/anaconda3/lib/python3.9/site-packages (from streamlit) (21.0)\n",
      "Requirement already satisfied: tornado>=5.0 in /opt/anaconda3/lib/python3.9/site-packages (from streamlit) (6.1)\n",
      "Requirement already satisfied: gitpython!=3.1.19 in /opt/anaconda3/lib/python3.9/site-packages (from streamlit) (3.1.43)\n",
      "Requirement already satisfied: semver in /opt/anaconda3/lib/python3.9/site-packages (from streamlit) (3.0.2)\n",
      "Requirement already satisfied: pandas>=0.21.0 in /opt/anaconda3/lib/python3.9/site-packages (from streamlit) (1.3.4)\n",
      "Requirement already satisfied: tzlocal>=1.1 in /opt/anaconda3/lib/python3.9/site-packages (from streamlit) (5.2)\n",
      "Requirement already satisfied: validators>=0.2 in /opt/anaconda3/lib/python3.9/site-packages (from streamlit) (0.34.0)\n",
      "Requirement already satisfied: pyarrow>=4.0 in /opt/anaconda3/lib/python3.9/site-packages (from streamlit) (17.0.0)\n",
      "Requirement already satisfied: narwhals>=1.5.2 in /opt/anaconda3/lib/python3.9/site-packages (from altair>=3.2.0->streamlit) (1.8.3)\n",
      "Requirement already satisfied: jsonschema>=3.0 in /opt/anaconda3/lib/python3.9/site-packages (from altair>=3.2.0->streamlit) (3.2.0)\n",
      "Requirement already satisfied: jinja2 in /opt/anaconda3/lib/python3.9/site-packages (from altair>=3.2.0->streamlit) (2.11.3)\n",
      "Requirement already satisfied: gitdb<5,>=4.0.1 in /opt/anaconda3/lib/python3.9/site-packages (from gitpython!=3.1.19->streamlit) (4.0.11)\n",
      "Requirement already satisfied: smmap<6,>=3.0.1 in /opt/anaconda3/lib/python3.9/site-packages (from gitdb<5,>=4.0.1->gitpython!=3.1.19->streamlit) (5.0.1)\n",
      "Requirement already satisfied: zipp>=0.5 in /opt/anaconda3/lib/python3.9/site-packages (from importlib-metadata>=1.4->streamlit) (3.6.0)\n",
      "Requirement already satisfied: attrs>=17.4.0 in /opt/anaconda3/lib/python3.9/site-packages (from jsonschema>=3.0->altair>=3.2.0->streamlit) (21.2.0)\n",
      "Requirement already satisfied: setuptools in /opt/anaconda3/lib/python3.9/site-packages (from jsonschema>=3.0->altair>=3.2.0->streamlit) (58.0.4)\n",
      "Requirement already satisfied: pyrsistent>=0.14.0 in /opt/anaconda3/lib/python3.9/site-packages (from jsonschema>=3.0->altair>=3.2.0->streamlit) (0.18.0)\n",
      "Requirement already satisfied: six>=1.11.0 in /opt/anaconda3/lib/python3.9/site-packages (from jsonschema>=3.0->altair>=3.2.0->streamlit) (1.16.0)\n",
      "Requirement already satisfied: pyparsing>=2.0.2 in /opt/anaconda3/lib/python3.9/site-packages (from packaging>=14.1->streamlit) (3.0.4)\n",
      "Requirement already satisfied: pytz>=2017.3 in /opt/anaconda3/lib/python3.9/site-packages (from pandas>=0.21.0->streamlit) (2021.3)\n",
      "Requirement already satisfied: MarkupSafe>=0.23 in /opt/anaconda3/lib/python3.9/site-packages (from jinja2->altair>=3.2.0->streamlit) (1.1.1)\n",
      "Requirement already satisfied: urllib3<3,>=1.21.1 in /opt/anaconda3/lib/python3.9/site-packages (from requests>=2.4->streamlit) (1.26.7)\n",
      "Requirement already satisfied: idna<4,>=2.5 in /opt/anaconda3/lib/python3.9/site-packages (from requests>=2.4->streamlit) (3.2)\n",
      "Requirement already satisfied: charset-normalizer<4,>=2 in /opt/anaconda3/lib/python3.9/site-packages (from requests>=2.4->streamlit) (2.0.4)\n",
      "Requirement already satisfied: certifi>=2017.4.17 in /opt/anaconda3/lib/python3.9/site-packages (from requests>=2.4->streamlit) (2021.10.8)\n",
      "Requirement already satisfied: markdown-it-py>=2.2.0 in /opt/anaconda3/lib/python3.9/site-packages (from rich>=10.11.0->streamlit) (3.0.0)\n",
      "Requirement already satisfied: pygments<3.0.0,>=2.13.0 in /opt/anaconda3/lib/python3.9/site-packages (from rich>=10.11.0->streamlit) (2.18.0)\n",
      "Requirement already satisfied: mdurl~=0.1 in /opt/anaconda3/lib/python3.9/site-packages (from markdown-it-py>=2.2.0->rich>=10.11.0->streamlit) (0.1.2)\n",
      "Note: you may need to restart the kernel to use updated packages.\n"
     ]
    }
   ],
   "source": [
    "pip install streamlit"
   ]
  },
  {
   "cell_type": "code",
   "execution_count": 1,
   "id": "f4180da1",
   "metadata": {},
   "outputs": [
    {
     "name": "stderr",
     "output_type": "stream",
     "text": [
      "2024-09-26 14:43:59.308 INFO    numexpr.utils: Note: NumExpr detected 12 cores but \"NUMEXPR_MAX_THREADS\" not set, so enforcing safe limit of 8.\n",
      "2024-09-26 14:43:59.309 INFO    numexpr.utils: NumExpr defaulting to 8 threads.\n"
     ]
    },
    {
     "ename": "ModuleNotFoundError",
     "evalue": "No module named 'altair.vegalite.v4'",
     "output_type": "error",
     "traceback": [
      "\u001b[0;31m---------------------------------------------------------------------------\u001b[0m",
      "\u001b[0;31mModuleNotFoundError\u001b[0m                       Traceback (most recent call last)",
      "\u001b[0;32m/var/folders/n0/yrlspk2s5031x7fhj0pszc840000gn/T/ipykernel_1468/3104133736.py\u001b[0m in \u001b[0;36m<module>\u001b[0;34m\u001b[0m\n\u001b[0;32m----> 1\u001b[0;31m \u001b[0;32mimport\u001b[0m \u001b[0mstreamlit\u001b[0m \u001b[0;32mas\u001b[0m \u001b[0mst\u001b[0m\u001b[0;34m\u001b[0m\u001b[0;34m\u001b[0m\u001b[0m\n\u001b[0m\u001b[1;32m      2\u001b[0m \u001b[0;32mimport\u001b[0m \u001b[0mpandas\u001b[0m \u001b[0;32mas\u001b[0m \u001b[0mpd\u001b[0m\u001b[0;34m\u001b[0m\u001b[0;34m\u001b[0m\u001b[0m\n\u001b[1;32m      3\u001b[0m \u001b[0;32mimport\u001b[0m \u001b[0mnumpy\u001b[0m \u001b[0;32mas\u001b[0m \u001b[0mnp\u001b[0m\u001b[0;34m\u001b[0m\u001b[0;34m\u001b[0m\u001b[0m\n\u001b[1;32m      4\u001b[0m \u001b[0;32mfrom\u001b[0m \u001b[0msklearn\u001b[0m\u001b[0;34m.\u001b[0m\u001b[0mlinear_model\u001b[0m \u001b[0;32mimport\u001b[0m \u001b[0mLogisticRegression\u001b[0m\u001b[0;34m\u001b[0m\u001b[0;34m\u001b[0m\u001b[0m\n\u001b[1;32m      5\u001b[0m \u001b[0;34m\u001b[0m\u001b[0m\n",
      "\u001b[0;32m/opt/anaconda3/lib/python3.9/site-packages/streamlit/__init__.py\u001b[0m in \u001b[0;36m<module>\u001b[0;34m\u001b[0m\n\u001b[1;32m     68\u001b[0m \u001b[0;32mfrom\u001b[0m \u001b[0mstreamlit\u001b[0m \u001b[0;32mimport\u001b[0m \u001b[0msource_util\u001b[0m \u001b[0;32mas\u001b[0m \u001b[0m_source_util\u001b[0m\u001b[0;34m\u001b[0m\u001b[0;34m\u001b[0m\u001b[0m\n\u001b[1;32m     69\u001b[0m \u001b[0;32mfrom\u001b[0m \u001b[0mstreamlit\u001b[0m \u001b[0;32mimport\u001b[0m \u001b[0mstring_util\u001b[0m \u001b[0;32mas\u001b[0m \u001b[0m_string_util\u001b[0m\u001b[0;34m\u001b[0m\u001b[0;34m\u001b[0m\u001b[0m\n\u001b[0;32m---> 70\u001b[0;31m \u001b[0;32mfrom\u001b[0m \u001b[0mstreamlit\u001b[0m\u001b[0;34m.\u001b[0m\u001b[0mdelta_generator\u001b[0m \u001b[0;32mimport\u001b[0m \u001b[0mDeltaGenerator\u001b[0m \u001b[0;32mas\u001b[0m \u001b[0m_DeltaGenerator\u001b[0m\u001b[0;34m\u001b[0m\u001b[0;34m\u001b[0m\u001b[0m\n\u001b[0m\u001b[1;32m     71\u001b[0m from streamlit.runtime.scriptrunner import (\n\u001b[1;32m     72\u001b[0m     \u001b[0madd_script_run_ctx\u001b[0m \u001b[0;32mas\u001b[0m \u001b[0m_add_script_run_ctx\u001b[0m\u001b[0;34m,\u001b[0m\u001b[0;34m\u001b[0m\u001b[0;34m\u001b[0m\u001b[0m\n",
      "\u001b[0;32m/opt/anaconda3/lib/python3.9/site-packages/streamlit/delta_generator.py\u001b[0m in \u001b[0;36m<module>\u001b[0;34m\u001b[0m\n\u001b[1;32m     88\u001b[0m \u001b[0;31m# We select between them with the DataFrameElementSelectorMixin.\u001b[0m\u001b[0;34m\u001b[0m\u001b[0;34m\u001b[0m\u001b[0m\n\u001b[1;32m     89\u001b[0m \u001b[0;32mfrom\u001b[0m \u001b[0mstreamlit\u001b[0m\u001b[0;34m.\u001b[0m\u001b[0melements\u001b[0m\u001b[0;34m.\u001b[0m\u001b[0marrow\u001b[0m \u001b[0;32mimport\u001b[0m \u001b[0mArrowMixin\u001b[0m\u001b[0;34m\u001b[0m\u001b[0;34m\u001b[0m\u001b[0m\n\u001b[0;32m---> 90\u001b[0;31m \u001b[0;32mfrom\u001b[0m \u001b[0mstreamlit\u001b[0m\u001b[0;34m.\u001b[0m\u001b[0melements\u001b[0m\u001b[0;34m.\u001b[0m\u001b[0marrow_altair\u001b[0m \u001b[0;32mimport\u001b[0m \u001b[0mArrowAltairMixin\u001b[0m\u001b[0;34m\u001b[0m\u001b[0;34m\u001b[0m\u001b[0m\n\u001b[0m\u001b[1;32m     91\u001b[0m \u001b[0;32mfrom\u001b[0m \u001b[0mstreamlit\u001b[0m\u001b[0;34m.\u001b[0m\u001b[0melements\u001b[0m\u001b[0;34m.\u001b[0m\u001b[0marrow_vega_lite\u001b[0m \u001b[0;32mimport\u001b[0m \u001b[0mArrowVegaLiteMixin\u001b[0m\u001b[0;34m\u001b[0m\u001b[0;34m\u001b[0m\u001b[0m\n\u001b[1;32m     92\u001b[0m \u001b[0;32mfrom\u001b[0m \u001b[0mstreamlit\u001b[0m\u001b[0;34m.\u001b[0m\u001b[0melements\u001b[0m\u001b[0;34m.\u001b[0m\u001b[0mlegacy_data_frame\u001b[0m \u001b[0;32mimport\u001b[0m \u001b[0mLegacyDataFrameMixin\u001b[0m\u001b[0;34m\u001b[0m\u001b[0;34m\u001b[0m\u001b[0m\n",
      "\u001b[0;32m/opt/anaconda3/lib/python3.9/site-packages/streamlit/elements/arrow_altair.py\u001b[0m in \u001b[0;36m<module>\u001b[0;34m\u001b[0m\n\u001b[1;32m     33\u001b[0m \u001b[0;32mimport\u001b[0m \u001b[0maltair\u001b[0m \u001b[0;32mas\u001b[0m \u001b[0malt\u001b[0m\u001b[0;34m\u001b[0m\u001b[0;34m\u001b[0m\u001b[0m\n\u001b[1;32m     34\u001b[0m \u001b[0;32mimport\u001b[0m \u001b[0mpandas\u001b[0m \u001b[0;32mas\u001b[0m \u001b[0mpd\u001b[0m\u001b[0;34m\u001b[0m\u001b[0;34m\u001b[0m\u001b[0m\n\u001b[0;32m---> 35\u001b[0;31m \u001b[0;32mfrom\u001b[0m \u001b[0maltair\u001b[0m\u001b[0;34m.\u001b[0m\u001b[0mvegalite\u001b[0m\u001b[0;34m.\u001b[0m\u001b[0mv4\u001b[0m\u001b[0;34m.\u001b[0m\u001b[0mapi\u001b[0m \u001b[0;32mimport\u001b[0m \u001b[0mChart\u001b[0m\u001b[0;34m\u001b[0m\u001b[0;34m\u001b[0m\u001b[0m\n\u001b[0m\u001b[1;32m     36\u001b[0m \u001b[0;32mfrom\u001b[0m \u001b[0mpandas\u001b[0m\u001b[0;34m.\u001b[0m\u001b[0mapi\u001b[0m\u001b[0;34m.\u001b[0m\u001b[0mtypes\u001b[0m \u001b[0;32mimport\u001b[0m \u001b[0minfer_dtype\u001b[0m\u001b[0;34m\u001b[0m\u001b[0;34m\u001b[0m\u001b[0m\n\u001b[1;32m     37\u001b[0m \u001b[0;34m\u001b[0m\u001b[0m\n",
      "\u001b[0;31mModuleNotFoundError\u001b[0m: No module named 'altair.vegalite.v4'"
     ]
    }
   ],
   "source": [
    "import streamlit as st\n",
    "import pandas as pd\n",
    "import numpy as np\n",
    "from sklearn.linear_model import LogisticRegression\n",
    "\n",
    "# Load and preprocess the dataset\n",
    "height_data = pd.read_csv('hight.csv')\n",
    "height_data['Gender'] = label_encoder.fit_transform(height_data['Gender'])\n",
    "\n",
    "# Train the model (This would be done once, ideally outside the app)\n",
    "X = height_data[['Hight', 'Weight', 'Shoe size']]\n",
    "y = height_data['Gender']\n",
    "model = LogisticRegression()\n",
    "model.fit(X, y)\n",
    "\n",
    "# Streamlit app\n",
    "st.title(\"Gender Classifier based on Height, Weight, and Shoe Size\")\n",
    "\n",
    "# User input\n",
    "height = st.number_input(\"Enter Height (cm):\", min_value=100, max_value=250)\n",
    "weight = st.number_input(\"Enter Weight (kg):\", min_value=30, max_value=150)\n",
    "shoe_size = st.number_input(\"Enter Shoe Size:\", min_value=30, max_value=50)\n",
    "\n",
    "# Predict\n",
    "if st.button(\"Predict Gender\"):\n",
    "    input_data = np.array([[height, weight, shoe_size]])\n",
    "    prediction = model.predict(input_data)\n",
    "    gender = \"Male\" if prediction[0] == 0 else \"Female\"\n",
    "    st.write(f\"The predicted gender is: {gender}\")"
   ]
  },
  {
   "cell_type": "code",
   "execution_count": null,
   "id": "2c8db4f5",
   "metadata": {},
   "outputs": [],
   "source": []
  }
 ],
 "metadata": {
  "kernelspec": {
   "display_name": "Python 3 (ipykernel)",
   "language": "python",
   "name": "python3"
  },
  "language_info": {
   "codemirror_mode": {
    "name": "ipython",
    "version": 3
   },
   "file_extension": ".py",
   "mimetype": "text/x-python",
   "name": "python",
   "nbconvert_exporter": "python",
   "pygments_lexer": "ipython3",
   "version": "3.9.7"
  }
 },
 "nbformat": 4,
 "nbformat_minor": 5
}
