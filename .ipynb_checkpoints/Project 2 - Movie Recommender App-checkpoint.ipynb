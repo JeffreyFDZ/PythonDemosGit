{
 "cells": [
  {
   "cell_type": "code",
   "execution_count": 1,
   "id": "e3938d0b",
   "metadata": {},
   "outputs": [
    {
     "data": {
      "text/plain": [
       "\"Two main types of reccomender systems\\n* Collaborative: reccomendations based on what other users like\\n* Content based Systems: reccomendations based on what you've liked in the past\\n    *Apps like netflix use both to give the best insight\\n\""
      ]
     },
     "execution_count": 1,
     "metadata": {},
     "output_type": "execute_result"
    }
   ],
   "source": [
    "'''Two main types of reccomender systems\n",
    "* Collaborative: reccomendations based on what other users like\n",
    "* Content based Systems: reccomendations based on what you've liked in the past\n",
    "    *Apps like netflix use both to give the best insight\n",
    "'''"
   ]
  },
  {
   "cell_type": "code",
   "execution_count": 1,
   "id": "611e92b0",
   "metadata": {},
   "outputs": [
    {
     "name": "stderr",
     "output_type": "stream",
     "text": [
      "/opt/anaconda3/lib/python3.9/site-packages/lightfm/_lightfm_fast.py:9: UserWarning: LightFM was compiled without OpenMP support. Only a single thread will be used.\n",
      "  warnings.warn(\n"
     ]
    },
    {
     "name": "stdout",
     "output_type": "stream",
     "text": [
      "<943x1682 sparse matrix of type '<class 'numpy.int32'>'\n",
      "\twith 49906 stored elements in COOrdinate format>\n",
      "<943x1682 sparse matrix of type '<class 'numpy.int32'>'\n",
      "\twith 5469 stored elements in COOrdinate format>\n",
      "User 3\n",
      "     Known positives:\n",
      "        S\n",
      "        C\n",
      "        S\n",
      "     Recommended:\n",
      "        C\n",
      "        C\n",
      "        S\n",
      "User 25\n",
      "     Known positives:\n",
      "        D\n",
      "        S\n",
      "        F\n",
      "     Recommended:\n",
      "        E\n",
      "        L\n",
      "        F\n",
      "User 450\n",
      "     Known positives:\n",
      "        C\n",
      "        G\n",
      "        E\n",
      "     Recommended:\n",
      "        A\n",
      "        C\n",
      "        G\n"
     ]
    }
   ],
   "source": [
    "import numpy as np \n",
    "from lightfm.datasets import fetch_movielens #giant csv files of movies and their list of ratings, ratings are from 0-5\n",
    "from lightfm import LightFM\n",
    "\n",
    "#fetch data set - we want movies in our data set \n",
    "#only rated 4.0 or higher\n",
    "\n",
    "data = fetch_movielens(min_rating=4.0)\n",
    "# stores our data in the form of a dictionary\n",
    "\n",
    "#print training and testing data\n",
    "print(repr(data['train']))\n",
    "print(repr(data['test']))\n",
    "\n",
    "#create model\n",
    "model = LightFM(loss = 'warp')\n",
    "#loss function measures difference between models predicition and our desired outcome\n",
    "#'warp' is Weighted Approximated-Rank Pairwise: A Hybrid (Collaborative and Categorical) prediction Model\n",
    "\n",
    "\n",
    "#Train Model\n",
    "model.fit(data['train'], epochs = 30, num_threads = 2)\n",
    "# takes 3 inputs, our data set, epochs (aka # of runs), and Threads(aka Parrallel computations)\n",
    "\n",
    "def sample_recommendation(model, data, user_ids):\n",
    "\n",
    "    #number of users and movies in training data\n",
    "    n_users, n_items = data['train'].shape\n",
    "\n",
    "    #generate recommendations for each user we input\n",
    "    for user_id in user_ids:\n",
    "\n",
    "        #movies they already like\n",
    "        known_positives = data['item_labels'][data['train'].tocsr()[user_id].indices]\n",
    "\n",
    "        #movies our model predicts they will like\n",
    "        scores = model.predict(user_id, np.arange(n_items))\n",
    "        #rank them in order of most liked to least\n",
    "        top_items = data['item_labels'][np.argsort(-scores)]\n",
    "\n",
    "        #print out the results\n",
    "        print(\"User %s\" % user_id)\n",
    "        print(\"     Known positives:\")\n",
    "\n",
    "        for x in known_positives[:3]:\n",
    "            print(\"        %s\" % x)\n",
    "\n",
    "        print(\"     Recommended:\")\n",
    "\n",
    "        for x in top_items[:3]:\n",
    "            print(\"        %s\" % x)\n",
    "\n",
    "\n",
    "sample_recommendation(model, data, [3, 25, 450])"
   ]
  },
  {
   "cell_type": "code",
   "execution_count": null,
   "id": "5ec7fa72",
   "metadata": {},
   "outputs": [],
   "source": []
  }
 ],
 "metadata": {
  "kernelspec": {
   "display_name": "Python 3 (ipykernel)",
   "language": "python",
   "name": "python3"
  },
  "language_info": {
   "codemirror_mode": {
    "name": "ipython",
    "version": 3
   },
   "file_extension": ".py",
   "mimetype": "text/x-python",
   "name": "python",
   "nbconvert_exporter": "python",
   "pygments_lexer": "ipython3",
   "version": "3.9.7"
  }
 },
 "nbformat": 4,
 "nbformat_minor": 5
}
